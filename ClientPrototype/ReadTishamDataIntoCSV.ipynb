{
 "cells": [
  {
   "cell_type": "markdown",
   "metadata": {},
   "source": [
    "# Read Tisham's energy data into a CSV file. \n",
    "I am exploring energy monitoring.  Also, I am fairly new to Python...\n",
    "This notebook reads Tisham's data from ThingSpeak and then puts the data into a CSV file (power in watts , date/time in epoch format)."
   ]
  },
  {
   "cell_type": "markdown",
   "metadata": {},
   "source": [
    "## Get Tisham's data from ThingSpeak.  \n",
    "Tisham kindly gave me a link to a Notebook he wrote that gets data from ThingSpeak.  I started here: \n",
    "I don't have the thingspeak library.  Guess I need to get it before I try to import.  I didn't know about ThingSpeak.  I guess it is tightly coupled with Mathworks.  Whatever that is.  I think it is used by academics?\n",
    "- pip install thingspeak (see here: https://pypi.python.org/pypi/thingspeak/0.4.1\n"
   ]
  },
  {
   "cell_type": "code",
   "execution_count": 1,
   "metadata": {
    "collapsed": true
   },
   "outputs": [],
   "source": [
    "import thingspeak\n",
    "\n",
    "channel_id = 257084\n",
    "read_key    = \"UHD7GTZLM9JIHG36\"\n",
    "\n",
    "channel = thingspeak.Channel(id=channel_id,api_key=read_key)\n",
    "\n",
    "series_json = None\n",
    "num_result = 8000\n",
    "\n",
    "try:\n",
    "    # Get the last 8K power readings\n",
    "    series_json = channel.get_field(field='field2', options = {'results': num_result})\n",
    "except:\n",
    "    raise\n",
    "    print (\"connection failed\")"
   ]
  },
  {
   "cell_type": "code",
   "execution_count": 2,
   "metadata": {
    "collapsed": true
   },
   "outputs": [],
   "source": [
    "import json\n",
    "data = json.loads(series_json)"
   ]
  },
  {
   "cell_type": "markdown",
   "metadata": {},
   "source": [
    "### Learnings...\n",
    "Switch to storing Epoch time.  Code does better with numbers.  UI loves strings.  \n",
    "- added import time\n",
    "Next- NameError: name 'np' is not defined\n",
    "- added import numpy as np"
   ]
  },
  {
   "cell_type": "code",
   "execution_count": 3,
   "metadata": {
    "collapsed": true
   },
   "outputs": [],
   "source": [
    "import datetime\n",
    "import numpy as np\n",
    "x = list()\n",
    "y = list()\n",
    "for entry in data['feeds']:\n",
    "    # Easiest to work with longs....\n",
    "    powerValue = -float(entry[u'field2'])\n",
    "    y.append(powerValue)  #Python 3.x does not have long. Use int\n",
    "    dt = datetime.datetime.strptime(entry[u'created_at'],'%Y-%m-%dT%H:%M:%SZ')\n",
    "    epoch = datetime.datetime(1970, 1, 1)\n",
    "    epochTime = int((dt - epoch).total_seconds())\n",
    "    x.append(epochTime)\n",
    "power = np.array(y)\n",
    "times = np.array(x)\n"
   ]
  },
  {
   "cell_type": "markdown",
   "metadata": {},
   "source": [
    "## Put data into a csv file where each row is power , times\n",
    "### Learnings\n",
    "- column_stack is a nifty numpy function!\n",
    "- then savetxt put the power and times into a csv file."
   ]
  },
  {
   "cell_type": "code",
   "execution_count": 4,
   "metadata": {
    "collapsed": true
   },
   "outputs": [],
   "source": [
    "powerAndTimes = np.column_stack((y,x))\n",
    "np.savetxt('powerAndTimes.csv',powerAndTimes,fmt='%d',delimiter=',')\n"
   ]
  },
  {
   "cell_type": "markdown",
   "metadata": {},
   "source": [
    "### Learnings...\n",
    "First time run - NameError: name 'pyplot' is not defined.  \n",
    "- added from matplotlib import pyplot\n",
    "- mucked a bit with the pyplot command so that it quickly showed a plot of energy use over time."
   ]
  },
  {
   "cell_type": "code",
   "execution_count": 5,
   "metadata": {},
   "outputs": [
    {
     "data": {
      "image/png": "[encoded data removed]",
      "text/plain": [
       "<matplotlib.figure.Figure at 0x10f456198>"
      ]
     },
     "metadata": {},
     "output_type": "display_data"
    }
   ],
   "source": [
    "from matplotlib import pyplot\n",
    "pyplot.plot(times,power)\n",
    "pyplot.show()"
   ]
  },
  {
   "cell_type": "code",
   "execution_count": null,
   "metadata": {
    "collapsed": true
   },
   "outputs": [],
   "source": []
  }
 ],
 "metadata": {
  "kernelspec": {
   "display_name": "Python 3",
   "language": "python",
   "name": "python3"
  },
  "language_info": {
   "codemirror_mode": {
    "name": "ipython",
    "version": 3
   },
   "file_extension": ".py",
   "mimetype": "text/x-python",
   "name": "python",
   "nbconvert_exporter": "python",
   "pygments_lexer": "ipython3",
   "version": "3.6.1"
  }
 },
 "nbformat": 4,
 "nbformat_minor": 2
}
