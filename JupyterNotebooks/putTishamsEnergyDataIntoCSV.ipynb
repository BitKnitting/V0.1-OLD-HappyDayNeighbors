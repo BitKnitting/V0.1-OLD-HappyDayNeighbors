{
 "cells": [
  {
   "cell_type": "markdown",
   "metadata": {},
   "source": [
    "# This is my first Jupyter notebook.  \n",
    "I am exploring energy monitoring.  Also, I am fairly new to Python...\n",
    "This notebook reads Tisham's data from ThingSpeak and then puts the data into a CSV file (power in watts , date and time)."
   ]
  },
  {
   "cell_type": "markdown",
   "metadata": {},
   "source": [
    "## Get Tisham's data from ThingSpeak.  \n",
    "Tisham kindly gave me a link to a Notebook he wrote that gets data from ThingSpeak.  I started here: \n",
    "I don't have the thingspeak library.  Guess I need to get it before I try to import.  I didn't know about ThingSpeak.  I guess it is tightly coupled with Mathworks.  Whatever that is.  I think it is used by academics?\n",
    "- pip install thingspeak (see here: https://pypi.python.org/pypi/thingspeak/0.4.1\n"
   ]
  },
  {
   "cell_type": "code",
   "execution_count": 6,
   "metadata": {
    "collapsed": true
   },
   "outputs": [],
   "source": [
    "import thingspeak\n",
    "\n",
    "channel_id = 257084\n",
    "read_key    = \"UHD7GTZLM9JIHG36\"\n",
    "\n",
    "channel = thingspeak.Channel(id=channel_id,api_key=read_key)\n",
    "\n",
    "series_json = None\n",
    "num_result = 8000\n",
    "\n",
    "try:\n",
    "    # Get the last 10K power readings\n",
    "    series_json = channel.get_field(field='field2', options = {'results': num_result})\n",
    "except:\n",
    "    raise\n",
    "    print (\"connection failed\")"
   ]
  },
  {
   "cell_type": "code",
   "execution_count": 7,
   "metadata": {
    "collapsed": true
   },
   "outputs": [],
   "source": [
    "import json\n",
    "data = json.loads(series_json)"
   ]
  },
  {
   "cell_type": "markdown",
   "metadata": {},
   "source": [
    "### Learnings...\n",
    "Initially I got- NameError: name 'datetime' is not defined.  \n",
    "- added import datetime\n",
    "Next- NameError: name 'np' is not defined\n",
    "- added import numpy as np"
   ]
  },
  {
   "cell_type": "code",
   "execution_count": 8,
   "metadata": {},
   "outputs": [],
   "source": [
    "import datetime\n",
    "import numpy as np\n",
    "x = list()\n",
    "y = list()\n",
    "for entry in data['feeds']:\n",
    "    y.append(-float(entry[u'field2']))\n",
    "    x.append(datetime.datetime.strptime(entry[u'created_at'],'%Y-%m-%dT%H:%M:%SZ'))\n",
    "power = np.array(y)\n",
    "times = np.array(x)\n"
   ]
  },
  {
   "cell_type": "markdown",
   "metadata": {},
   "source": [
    "## Put data into a csv file where each row is power , times\n",
    "### Learnings\n",
    "- column_stack is a nifty numpy function!\n",
    "- then savetxt put the power and times into a csv file."
   ]
  },
  {
   "cell_type": "code",
   "execution_count": 9,
   "metadata": {},
   "outputs": [],
   "source": [
    "powerAndTimes = np.column_stack((y,x))\n",
    "np.savetxt('powerAndTimes.csv',powerAndTimes,fmt='%s',delimiter=',')\n"
   ]
  },
  {
   "cell_type": "markdown",
   "metadata": {},
   "source": [
    "### Learnings...\n",
    "First time run - NameError: name 'pyplot' is not defined.  \n",
    "- added from matplotlib import pyplot\n",
    "- mucked a bit with the pyplot command so that it quickly showed a plot of energy use over time."
   ]
  },
  {
   "cell_type": "code",
   "execution_count": 10,
   "metadata": {},
   "outputs": [
    {
     "data": {
      "image/png": "[encoded data removed]",
      "text/plain": [
       "<matplotlib.figure.Figure at 0x108ecc828>"
      ]
     },
     "metadata": {},
     "output_type": "display_data"
    }
   ],
   "source": [
    "from matplotlib import pyplot\n",
    "pyplot.plot(times,power)\n",
    "pyplot.show()"
   ]
  },
  {
   "cell_type": "code",
   "execution_count": null,
   "metadata": {
    "collapsed": true
   },
   "outputs": [],
   "source": []
  }
 ],
 "metadata": {
  "kernelspec": {
   "display_name": "Python 3",
   "language": "python",
   "name": "python3"
  },
  "language_info": {
   "codemirror_mode": {
    "name": "ipython",
    "version": 3
   },
   "file_extension": ".py",
   "mimetype": "text/x-python",
   "name": "python",
   "nbconvert_exporter": "python",
   "pygments_lexer": "ipython3",
   "version": "3.6.1"
  }
 },
 "nbformat": 4,
 "nbformat_minor": 2
}
